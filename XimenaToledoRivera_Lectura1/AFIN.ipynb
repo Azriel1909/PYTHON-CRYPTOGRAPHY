{
  "nbformat": 4,
  "nbformat_minor": 0,
  "metadata": {
    "colab": {
      "provenance": []
    },
    "kernelspec": {
      "name": "python3",
      "display_name": "Python 3"
    },
    "language_info": {
      "name": "python"
    }
  },
  "cells": [
    {
      "cell_type": "markdown",
      "source": [
        "# Propedéutico de Programación\n",
        "By Ximena Toledo Rivera\n",
        "## Cifrado Afín"
      ],
      "metadata": {
        "id": "sbFIJMPpK6ny"
      }
    },
    {
      "cell_type": "markdown",
      "source": [
        "1. Declaramos variables"
      ],
      "metadata": {
        "id": "aT0v5AqmLAVv"
      }
    },
    {
      "cell_type": "code",
      "execution_count": 60,
      "metadata": {
        "colab": {
          "base_uri": "https://localhost:8080/"
        },
        "id": "abV343NCGQ99",
        "outputId": "7414fe3b-d7dd-4955-aba2-c83140edfe84"
      },
      "outputs": [
        {
          "name": "stdout",
          "output_type": "stream",
          "text": [
            "Ingresa el texto: xime\n",
            "Ingresa la llave: 57\n"
          ]
        }
      ],
      "source": [
        "p = input(\"Ingresa el texto: \")\n",
        "k = input(\"Ingresa la llave: \")\n",
        "C = []\n",
        "dc = []\n",
        "n = []\n",
        "inversion = 0                     # Inverso Modular\n",
        "V = 'abcdefghijklmnñopqrstuvwxyz' # Alfabeto\n",
        "lv = len(V)"
      ]
    },
    {
      "cell_type": "markdown",
      "source": [
        "2. Creación de tupla"
      ],
      "metadata": {
        "id": "sx6F9GXoLOV0"
      }
    },
    {
      "cell_type": "code",
      "source": [
        "for chrk in k:\n",
        "  n.append(int(chrk))\n",
        "tuple(n)"
      ],
      "metadata": {
        "colab": {
          "base_uri": "https://localhost:8080/"
        },
        "id": "EHkFBV9qGXlt",
        "outputId": "1ef6536e-c35c-4327-9236-1f75bbf7ed0c"
      },
      "execution_count": 61,
      "outputs": [
        {
          "output_type": "execute_result",
          "data": {
            "text/plain": [
              "(5, 7)"
            ]
          },
          "metadata": {},
          "execution_count": 61
        }
      ]
    },
    {
      "cell_type": "markdown",
      "source": [
        "3. Proceso de cifrado"
      ],
      "metadata": {
        "id": "DfRBmz1dLXS4"
      }
    },
    {
      "cell_type": "code",
      "source": [
        "for chrp in p:\n",
        "  C.append(V[(n[0]*V.index(chrp)+n[1])%27])\n",
        "print(C)"
      ],
      "metadata": {
        "colab": {
          "base_uri": "https://localhost:8080/"
        },
        "id": "Wg0cIvFvGbEH",
        "outputId": "8f1f4110-aa42-4cf5-c7d1-347664338bfe"
      },
      "execution_count": 62,
      "outputs": [
        {
          "output_type": "stream",
          "name": "stdout",
          "text": [
            "['s', 't', 'n', 'a']\n"
          ]
        }
      ]
    },
    {
      "cell_type": "markdown",
      "source": [
        "4. Encontrar el inverso modular"
      ],
      "metadata": {
        "id": "RGsW51QsL10D"
      }
    },
    {
      "cell_type": "code",
      "source": [
        "for i in range(0, lv):\n",
        "  if (((n[0]*i)%lv) == 1):\n",
        "    inversion = i\n",
        "print(inversion)"
      ],
      "metadata": {
        "colab": {
          "base_uri": "https://localhost:8080/"
        },
        "id": "WUkVJMMsG_tc",
        "outputId": "9ddb15b5-4490-48c4-ee47-ed6cc3085e60"
      },
      "execution_count": 63,
      "outputs": [
        {
          "output_type": "stream",
          "name": "stdout",
          "text": [
            "11\n"
          ]
        }
      ]
    },
    {
      "cell_type": "markdown",
      "source": [
        "5. Proceso de descifrado"
      ],
      "metadata": {
        "id": "66GpHMFjMHht"
      }
    },
    {
      "cell_type": "code",
      "source": [
        "for i in C:\n",
        "  dc.append(V[(inversion*(V.index(i)-n[1]))%27])\n",
        "print(dc)"
      ],
      "metadata": {
        "colab": {
          "base_uri": "https://localhost:8080/"
        },
        "id": "B3n1LASJH8PK",
        "outputId": "4127e048-00c7-4fa7-99ec-d585febeb146"
      },
      "execution_count": 64,
      "outputs": [
        {
          "output_type": "stream",
          "name": "stdout",
          "text": [
            "['x', 'i', 'm', 'e']\n"
          ]
        }
      ]
    }
  ]
}