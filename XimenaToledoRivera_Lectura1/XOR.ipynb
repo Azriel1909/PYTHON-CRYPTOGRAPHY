{
  "nbformat": 4,
  "nbformat_minor": 0,
  "metadata": {
    "colab": {
      "provenance": []
    },
    "kernelspec": {
      "name": "python3",
      "display_name": "Python 3"
    },
    "language_info": {
      "name": "python"
    }
  },
  "cells": [
    {
      "cell_type": "markdown",
      "source": [
        "# Propedéutico de Programación\n",
        "By Ximena Toledo Rivera\n",
        "## Cifrado XOR"
      ],
      "metadata": {
        "id": "tu_JKMeNtXk8"
      }
    },
    {
      "cell_type": "markdown",
      "source": [
        "1. Declaración de variables"
      ],
      "metadata": {
        "id": "f-gBKU4Iv7ug"
      }
    },
    {
      "cell_type": "code",
      "execution_count": 139,
      "metadata": {
        "colab": {
          "base_uri": "https://localhost:8080/"
        },
        "id": "zAzkdvE7pUKi",
        "outputId": "8c01cf72-5070-416f-d0f3-3a8c9ea4061d"
      },
      "outputs": [
        {
          "name": "stdout",
          "output_type": "stream",
          "text": [
            "Ingresa el texto: hola\n",
            "Ingresa la llave: ab\n"
          ]
        }
      ],
      "source": [
        "p = input(\"Ingresa el texto: \")   # Plain Text\n",
        "k = input(\"Ingresa la llave: \")   # Key\n",
        "C = []                            # Cipher\n",
        "dc = []                           # Decipher\n",
        "pl = len(p)                       # Longitud del Plain Text\n",
        "kl = ''                           # Longitud de la Key"
      ]
    },
    {
      "cell_type": "markdown",
      "source": [
        "2. Aplicamos ord(), función que devuelve un número entero que representa un carácter en UNICODE."
      ],
      "metadata": {
        "id": "Qbhylrm0v_MW"
      }
    },
    {
      "cell_type": "code",
      "source": [
        "for i in p:\n",
        "  print(ord(i))"
      ],
      "metadata": {
        "colab": {
          "base_uri": "https://localhost:8080/"
        },
        "id": "Lskpe0wQtW29",
        "outputId": "e4517a33-c250-42fd-e0ca-0ac44f1ad88b"
      },
      "execution_count": 140,
      "outputs": [
        {
          "output_type": "stream",
          "name": "stdout",
          "text": [
            "104\n",
            "111\n",
            "108\n",
            "97\n"
          ]
        }
      ]
    },
    {
      "cell_type": "markdown",
      "source": [
        "3. Agregar Padding a la cadena de caracteres"
      ],
      "metadata": {
        "id": "oXmiaVPTydU9"
      }
    },
    {
      "cell_type": "code",
      "source": [
        "initial_length = 0\n",
        "i = 0\n",
        "while (initial_length != pl):\n",
        "  kl = k*i\n",
        "  initial_length = len(kl)\n",
        "  i += 1\n",
        "print(kl)"
      ],
      "metadata": {
        "colab": {
          "base_uri": "https://localhost:8080/"
        },
        "id": "Q5NhCyzvvxHC",
        "outputId": "41e4f718-0e6c-4706-92a9-95efbb14d3e2"
      },
      "execution_count": 141,
      "outputs": [
        {
          "output_type": "stream",
          "name": "stdout",
          "text": [
            "abab\n"
          ]
        }
      ]
    },
    {
      "cell_type": "markdown",
      "source": [
        "4. Cifrar el texto\n",
        "\n",
        ">Se utiliza zip() que es un iterador de tuplas donde el primer elemento de cada iterador pasado se empareja, y luego el segundo elemento de cada iterador pasado se empareja, etc."
      ],
      "metadata": {
        "id": "Rfib1vjMyswJ"
      }
    },
    {
      "cell_type": "code",
      "source": [
        "for chrp, chrk in zip(p, kl):\n",
        "  C.append(ord(chrp)^ord(chrk))\n",
        "print('Texto cifrado: {}'.format(C))"
      ],
      "metadata": {
        "colab": {
          "base_uri": "https://localhost:8080/"
        },
        "id": "S4yiWbuayxu9",
        "outputId": "2ede7611-04b7-4529-f7a7-5e09b3096f85"
      },
      "execution_count": 143,
      "outputs": [
        {
          "output_type": "stream",
          "name": "stdout",
          "text": [
            "Texto cifrado: [9, 13, 13, 3]\n"
          ]
        }
      ]
    },
    {
      "cell_type": "markdown",
      "source": [
        "5. Descifrar Texto"
      ],
      "metadata": {
        "id": "DjckHMDX0bVQ"
      }
    },
    {
      "cell_type": "code",
      "source": [
        "for h, hh in zip(C, kl):\n",
        "  dc.append(h^ord(hh))\n",
        "print('Descifrado: {}'.format(dc))"
      ],
      "metadata": {
        "colab": {
          "base_uri": "https://localhost:8080/"
        },
        "id": "I_G4wdnuyycx",
        "outputId": "35e27832-510e-4317-8bc4-46f2bbf68b66"
      },
      "execution_count": 144,
      "outputs": [
        {
          "output_type": "stream",
          "name": "stdout",
          "text": [
            "Descifrado: [104, 111, 108, 97]\n"
          ]
        }
      ]
    }
  ]
}