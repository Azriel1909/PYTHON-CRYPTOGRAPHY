{
  "nbformat": 4,
  "nbformat_minor": 0,
  "metadata": {
    "colab": {
      "provenance": []
    },
    "kernelspec": {
      "name": "python3",
      "display_name": "Python 3"
    },
    "language_info": {
      "name": "python"
    }
  },
  "cells": [
    {
      "cell_type": "markdown",
      "source": [
        "# Propedéutico de Programación: Lectura 3\n",
        "By Ximena Toledo Rivera\n",
        "## Algoritmo de cifrado Vigenere"
      ],
      "metadata": {
        "id": "_nQPTv-Fmo3k"
      }
    },
    {
      "cell_type": "markdown",
      "source": [
        "1. Declaración de variables\n",
        "\n"
      ],
      "metadata": {
        "id": "o8gDrKHvLork"
      }
    },
    {
      "cell_type": "code",
      "execution_count": 62,
      "metadata": {
        "colab": {
          "base_uri": "https://localhost:8080/"
        },
        "id": "1G8d3mC3KgBR",
        "outputId": "80cce37f-4152-47da-d237-c14dac361d64"
      },
      "outputs": [
        {
          "name": "stdout",
          "output_type": "stream",
          "text": [
            "Ingresa el texto: ximena\n",
            "Ingresa la llave: xm\n"
          ]
        }
      ],
      "source": [
        "alpha = 'abcdefghijklmnñopqrstuvwxyz'\n",
        "message = input('Ingresa el texto: ')\n",
        "key = input('Ingresa la llave: ')\n",
        "cipherM = ''\n",
        "originalM = ''"
      ]
    },
    {
      "cell_type": "markdown",
      "source": [
        "2. Función Generadora de la llave"
      ],
      "metadata": {
        "id": "3sJqgeMtMWU_"
      }
    },
    {
      "cell_type": "code",
      "source": [
        "def keyGenerator(m, k):\n",
        "  k = list(k)\n",
        "  if len(m) == len(k):\n",
        "    return(k)\n",
        "  else:\n",
        "    for i in range(len(m) - len(k)):\n",
        "      k.append(k[i%len(k)])\n",
        "    return(''.join(k))\n",
        "\n",
        "key = keyGenerator(message, key)\n",
        "print(key)\n",
        "print(type(key))"
      ],
      "metadata": {
        "colab": {
          "base_uri": "https://localhost:8080/"
        },
        "id": "qGAz8hxHMVBo",
        "outputId": "9dc5cb20-0ff6-447a-91a0-d8d7c77323cf"
      },
      "execution_count": 63,
      "outputs": [
        {
          "output_type": "stream",
          "name": "stdout",
          "text": [
            "xmxmxm\n",
            "<class 'str'>\n"
          ]
        }
      ]
    },
    {
      "cell_type": "code",
      "source": [
        "len(key) == len(message)"
      ],
      "metadata": {
        "colab": {
          "base_uri": "https://localhost:8080/"
        },
        "id": "U94tHPlCThw3",
        "outputId": "43ac323c-ec85-4871-9316-d2bdff4ac3e1"
      },
      "execution_count": 64,
      "outputs": [
        {
          "output_type": "execute_result",
          "data": {
            "text/plain": [
              "True"
            ]
          },
          "metadata": {},
          "execution_count": 64
        }
      ]
    },
    {
      "cell_type": "markdown",
      "source": [],
      "metadata": {
        "id": "Ue7uYOT2eRV2"
      }
    },
    {
      "cell_type": "markdown",
      "source": [
        "3. Cifrar el mensaje"
      ],
      "metadata": {
        "id": "ghON4IOwPNPH"
      }
    },
    {
      "cell_type": "code",
      "source": [
        "i = 0\n",
        "for j in message:\n",
        "  C = alpha.find(j) + alpha.find(key[i % len(key)])\n",
        "  mod = int(C)%len(alpha)\n",
        "  cipherM = cipherM + str(alpha[mod])\n",
        "  i += 1\n",
        "\n",
        "print(cipherM)"
      ],
      "metadata": {
        "colab": {
          "base_uri": "https://localhost:8080/"
        },
        "id": "5Snj1yFFLzvn",
        "outputId": "1f777b96-7a1a-4823-91da-5bad417fc88b"
      },
      "execution_count": 65,
      "outputs": [
        {
          "output_type": "stream",
          "name": "stdout",
          "text": [
            "utjpkm\n"
          ]
        }
      ]
    },
    {
      "cell_type": "markdown",
      "source": [
        "4. Descifrar el mensaje"
      ],
      "metadata": {
        "id": "n_p2_F8rbqrz"
      }
    },
    {
      "cell_type": "code",
      "source": [
        "i2 = 0\n",
        "for j2 in cipherM:\n",
        "  M = alpha.find(j2) - alpha.find(key[i2 % len(key)])\n",
        "  mod = int(M)%len(alpha)\n",
        "  originalM = originalM + str(alpha[mod])\n",
        "  i2+=1\n",
        "\n",
        "print(originalM)"
      ],
      "metadata": {
        "colab": {
          "base_uri": "https://localhost:8080/"
        },
        "id": "U6fzV8fAlac8",
        "outputId": "c8588031-8188-4515-d8ac-af2d9de21c79"
      },
      "execution_count": 66,
      "outputs": [
        {
          "output_type": "stream",
          "name": "stdout",
          "text": [
            "ximena\n"
          ]
        }
      ]
    }
  ]
}