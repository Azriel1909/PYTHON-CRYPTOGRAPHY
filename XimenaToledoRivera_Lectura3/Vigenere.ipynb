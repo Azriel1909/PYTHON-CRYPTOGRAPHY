{
  "cells": [
    {
      "attachments": {},
      "cell_type": "markdown",
      "metadata": {
        "id": "_nQPTv-Fmo3k"
      },
      "source": [
        "# Propedéutico de Programación: Lectura 3\n",
        "By Ximena Toledo Rivera\n",
        "## Algoritmo de cifrado Vigenere"
      ]
    },
    {
      "attachments": {},
      "cell_type": "markdown",
      "metadata": {
        "id": "o8gDrKHvLork"
      },
      "source": [
        "1. Declaración de variables\n",
        "\n"
      ]
    },
    {
      "cell_type": "code",
      "execution_count": 3,
      "metadata": {
        "colab": {
          "base_uri": "https://localhost:8080/"
        },
        "id": "1G8d3mC3KgBR",
        "outputId": "80cce37f-4152-47da-d237-c14dac361d64"
      },
      "outputs": [],
      "source": [
        "alpha = 'abcdefghijklmnñopqrstuvwxyz'\n",
        "message = input('Ingresa el texto: ')\n",
        "key = input('Ingresa la llave: ')\n",
        "cipherM = ''\n",
        "originalM = ''"
      ]
    },
    {
      "attachments": {},
      "cell_type": "markdown",
      "metadata": {
        "id": "3sJqgeMtMWU_"
      },
      "source": [
        "2. Función Generadora de la llave"
      ]
    },
    {
      "cell_type": "code",
      "execution_count": 4,
      "metadata": {
        "colab": {
          "base_uri": "https://localhost:8080/"
        },
        "id": "qGAz8hxHMVBo",
        "outputId": "9dc5cb20-0ff6-447a-91a0-d8d7c77323cf"
      },
      "outputs": [
        {
          "name": "stdout",
          "output_type": "stream",
          "text": [
            "xmxmxm\n",
            "<class 'str'>\n"
          ]
        }
      ],
      "source": [
        "def keyGenerator(m, k):\n",
        "  k = list(k)\n",
        "  if len(m) == len(k):\n",
        "    return(k)\n",
        "  else:\n",
        "    for i in range(len(m) - len(k)):\n",
        "      k.append(k[i%len(k)])\n",
        "    return(''.join(k))\n",
        "\n",
        "key = keyGenerator(message, key)\n",
        "print(key)\n",
        "print(type(key))"
      ]
    },
    {
      "cell_type": "code",
      "execution_count": 5,
      "metadata": {
        "colab": {
          "base_uri": "https://localhost:8080/"
        },
        "id": "U94tHPlCThw3",
        "outputId": "43ac323c-ec85-4871-9316-d2bdff4ac3e1"
      },
      "outputs": [
        {
          "data": {
            "text/plain": [
              "True"
            ]
          },
          "execution_count": 5,
          "metadata": {},
          "output_type": "execute_result"
        }
      ],
      "source": [
        "len(key) == len(message)"
      ]
    },
    {
      "attachments": {},
      "cell_type": "markdown",
      "metadata": {
        "id": "ghON4IOwPNPH"
      },
      "source": [
        "3. Cifrar el mensaje"
      ]
    },
    {
      "cell_type": "code",
      "execution_count": 6,
      "metadata": {
        "colab": {
          "base_uri": "https://localhost:8080/"
        },
        "id": "5Snj1yFFLzvn",
        "outputId": "1f777b96-7a1a-4823-91da-5bad417fc88b"
      },
      "outputs": [
        {
          "name": "stdout",
          "output_type": "stream",
          "text": [
            "utjpkm\n"
          ]
        }
      ],
      "source": [
        "i = 0\n",
        "for j in message:\n",
        "  C = alpha.find(j) + alpha.find(key[i % len(key)])\n",
        "  mod = int(C)%len(alpha)\n",
        "  cipherM = cipherM + str(alpha[mod])\n",
        "  i += 1\n",
        "\n",
        "print(cipherM)"
      ]
    },
    {
      "attachments": {},
      "cell_type": "markdown",
      "metadata": {
        "id": "n_p2_F8rbqrz"
      },
      "source": [
        "4. Descifrar el mensaje"
      ]
    },
    {
      "cell_type": "code",
      "execution_count": 7,
      "metadata": {
        "colab": {
          "base_uri": "https://localhost:8080/"
        },
        "id": "U6fzV8fAlac8",
        "outputId": "c8588031-8188-4515-d8ac-af2d9de21c79"
      },
      "outputs": [
        {
          "name": "stdout",
          "output_type": "stream",
          "text": [
            "ximena\n"
          ]
        }
      ],
      "source": [
        "i2 = 0\n",
        "for j2 in cipherM:\n",
        "  M = alpha.find(j2) - alpha.find(key[i2 % len(key)])\n",
        "  mod = int(M)%len(alpha)\n",
        "  originalM = originalM + str(alpha[mod])\n",
        "  i2 += 1\n",
        "\n",
        "print(originalM)"
      ]
    }
  ],
  "metadata": {
    "colab": {
      "provenance": []
    },
    "kernelspec": {
      "display_name": "Python 3",
      "name": "python3"
    },
    "language_info": {
      "codemirror_mode": {
        "name": "ipython",
        "version": 3
      },
      "file_extension": ".py",
      "mimetype": "text/x-python",
      "name": "python",
      "nbconvert_exporter": "python",
      "pygments_lexer": "ipython3",
      "version": "3.10.6"
    }
  },
  "nbformat": 4,
  "nbformat_minor": 0
}
