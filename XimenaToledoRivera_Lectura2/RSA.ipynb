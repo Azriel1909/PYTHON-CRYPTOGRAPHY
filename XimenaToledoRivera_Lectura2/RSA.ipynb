{
  "nbformat": 4,
  "nbformat_minor": 0,
  "metadata": {
    "colab": {
      "provenance": []
    },
    "kernelspec": {
      "name": "python3",
      "display_name": "Python 3"
    },
    "language_info": {
      "name": "python"
    }
  },
  "cells": [
    {
      "cell_type": "markdown",
      "source": [
        "# Propedéutico de Programación: Lectura 2\n",
        "By Ximena Toledo Rivera\n",
        "## Algoritmo RSA"
      ],
      "metadata": {
        "id": "Rpq0oc0-23rJ"
      }
    },
    {
      "cell_type": "markdown",
      "source": [
        "1. Declaración de variables"
      ],
      "metadata": {
        "id": "qlouSbyC3FjK"
      }
    },
    {
      "cell_type": "code",
      "execution_count": 37,
      "metadata": {
        "colab": {
          "base_uri": "https://localhost:8080/"
        },
        "id": "vyt-Y2x02Zyo",
        "outputId": "4c88c90f-4912-42bd-8fa8-ad270ef7584a"
      },
      "outputs": [
        {
          "name": "stdout",
          "output_type": "stream",
          "text": [
            "Ingresa el texto: ximena\n",
            "Ingresa p: 13\n",
            "Ingresa q: 17\n"
          ]
        }
      ],
      "source": [
        "message = input('Ingresa el texto: ')\n",
        "cipherM = []\n",
        "decipherM = []\n",
        "originalM = ''\n",
        "p = int(input('Ingresa p: '))\n",
        "q = int(input('Ingresa q: '))\n",
        "n = p * q\n",
        "phi = (p-1)*(q-1)\n",
        "\n",
        "# Data Type Testing\n",
        "# print(type(p))\n",
        "# print(type(q))"
      ]
    },
    {
      "cell_type": "markdown",
      "source": [
        "2. Codificar el algoritmo de Euclides para obtener el MCD."
      ],
      "metadata": {
        "id": "i_G6J-YR4Zza"
      }
    },
    {
      "cell_type": "code",
      "source": [
        "def gcd(a, b):\n",
        "    if(b == 0):\n",
        "        return abs(a)\n",
        "    else:\n",
        "        return gcd(b, a % b)\n",
        "print(gcd(5, 192))"
      ],
      "metadata": {
        "colab": {
          "base_uri": "https://localhost:8080/"
        },
        "id": "LgwJ6QZ_4CPQ",
        "outputId": "6b30a9ca-b296-4502-ce68-4ef70458b979"
      },
      "execution_count": 38,
      "outputs": [
        {
          "output_type": "stream",
          "name": "stdout",
          "text": [
            "1\n"
          ]
        }
      ]
    },
    {
      "cell_type": "markdown",
      "source": [
        "3. Crear un función generadora de claves"
      ],
      "metadata": {
        "id": "tgAGXIpW5F4r"
      }
    },
    {
      "cell_type": "code",
      "source": [
        "def keyGenerator(e):\n",
        "  while (gcd(e,phi)!=1) and e < phi:\n",
        "    e += 1\n",
        "  return e\n",
        "\n",
        "print(keyGenerator(2))\n",
        "print(phi)"
      ],
      "metadata": {
        "colab": {
          "base_uri": "https://localhost:8080/"
        },
        "id": "F8gj2T2e4lKc",
        "outputId": "0fcf042e-d94e-4c7f-e974-1d754736c259"
      },
      "execution_count": 39,
      "outputs": [
        {
          "output_type": "stream",
          "name": "stdout",
          "text": [
            "5\n",
            "192\n"
          ]
        }
      ]
    },
    {
      "cell_type": "markdown",
      "source": [
        "4. Cifrar el mensaje"
      ],
      "metadata": {
        "id": "F129iUBN5_1y"
      }
    },
    {
      "cell_type": "code",
      "source": [
        "for i in message:\n",
        "  cipherM.append((ord(i)**keyGenerator(2))%n)\n",
        "print(cipherM)"
      ],
      "metadata": {
        "colab": {
          "base_uri": "https://localhost:8080/"
        },
        "id": "-fjAHLT-5PDV",
        "outputId": "32aa1772-f315-4694-8b43-b197a0f57732"
      },
      "execution_count": 40,
      "outputs": [
        {
          "output_type": "stream",
          "name": "stdout",
          "text": [
            "[35, 209, 96, 186, 145, 54]\n"
          ]
        }
      ]
    },
    {
      "cell_type": "markdown",
      "source": [
        "5. Calcular la llave privada para descifrar"
      ],
      "metadata": {
        "id": "5GQiShLb6s7e"
      }
    },
    {
      "cell_type": "code",
      "source": [
        "def privateKey(d):\n",
        "  while ((keyGenerator(2)*d)%phi)!=1 and d<phi:\n",
        "    d += 1\n",
        "  return d\n",
        "\n",
        "print(privateKey(2))"
      ],
      "metadata": {
        "colab": {
          "base_uri": "https://localhost:8080/"
        },
        "id": "LeUEFFwM6Dky",
        "outputId": "767c34f1-7fd2-492f-c7cc-130323811489"
      },
      "execution_count": 41,
      "outputs": [
        {
          "output_type": "stream",
          "name": "stdout",
          "text": [
            "77\n"
          ]
        }
      ]
    },
    {
      "cell_type": "markdown",
      "source": [
        "6. Descifrar el mensaje"
      ],
      "metadata": {
        "id": "1XFPYBVN8r45"
      }
    },
    {
      "cell_type": "code",
      "source": [
        "for j in cipherM:\n",
        "  decipherM.append((j**privateKey(2))%n)\n",
        "print(decipherM)"
      ],
      "metadata": {
        "colab": {
          "base_uri": "https://localhost:8080/"
        },
        "id": "9dDFquYj7KyB",
        "outputId": "af0c9b8b-ece3-4609-b372-3edfe2f1698a"
      },
      "execution_count": 42,
      "outputs": [
        {
          "output_type": "stream",
          "name": "stdout",
          "text": [
            "[120, 105, 109, 101, 110, 97]\n"
          ]
        }
      ]
    },
    {
      "cell_type": "markdown",
      "source": [
        "7. Identificar el mensaje original"
      ],
      "metadata": {
        "id": "k_Hj2mbH8ud5"
      }
    },
    {
      "cell_type": "code",
      "source": [
        "for k in decipherM:\n",
        "  originalM = originalM + chr(k)\n",
        "print(originalM)"
      ],
      "metadata": {
        "colab": {
          "base_uri": "https://localhost:8080/"
        },
        "id": "wDHutogi8gzT",
        "outputId": "3c1a85ac-2ae7-437c-bc3c-5452a7a75720"
      },
      "execution_count": 43,
      "outputs": [
        {
          "output_type": "stream",
          "name": "stdout",
          "text": [
            "ximena\n"
          ]
        }
      ]
    }
  ]
}